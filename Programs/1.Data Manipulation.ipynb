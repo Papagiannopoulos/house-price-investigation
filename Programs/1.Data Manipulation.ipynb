{
 "cells": [
  {
   "cell_type": "markdown",
   "id": "2b90508e",
   "metadata": {},
   "source": [
    "House Price Predictions - Regresion"
   ]
  },
  {
   "cell_type": "markdown",
   "id": "65dbd898",
   "metadata": {},
   "source": [
    "Modules"
   ]
  },
  {
   "cell_type": "markdown",
   "id": "09485570",
   "metadata": {},
   "source": [
    "#### Data Manipulation & Feature Engineering"
   ]
  },
  {
   "cell_type": "code",
   "execution_count": 2,
   "id": "25a57782",
   "metadata": {},
   "outputs": [
    {
     "data": {
      "text/plain": [
       "(1460, 80)"
      ]
     },
     "execution_count": 2,
     "metadata": {},
     "output_type": "execute_result"
    }
   ],
   "source": [
    "data = pd.read_csv('../Data/train.csv')\n",
    "data.drop(columns='Id', inplace=True)\n",
    "data.shape"
   ]
  },
  {
   "cell_type": "code",
   "execution_count": 3,
   "id": "ba0cb84b",
   "metadata": {},
   "outputs": [
    {
     "data": {
      "text/plain": [
       "count      1460.000000\n",
       "mean     180921.195890\n",
       "std       79442.502883\n",
       "min       34900.000000\n",
       "25%      129975.000000\n",
       "50%      163000.000000\n",
       "75%      214000.000000\n",
       "max      755000.000000\n",
       "Name: SalePrice, dtype: float64"
      ]
     },
     "execution_count": 3,
     "metadata": {},
     "output_type": "execute_result"
    },
    {
     "data": {
      "image/png": "[encoded data removed]",
      "text/plain": [
       "<Figure size 400x300 with 1 Axes>"
      ]
     },
     "metadata": {},
     "output_type": "display_data"
    }
   ],
   "source": [
    "# Target\n",
    "data.SalePrice.plot.hist(figsize = (4,3))\n",
    "data.SalePrice.describe()"
   ]
  },
  {
   "cell_type": "code",
   "execution_count": 4,
   "id": "b951fdcd",
   "metadata": {},
   "outputs": [
    {
     "data": {
      "text/plain": [
       "count    1460.000000\n",
       "mean       12.024051\n",
       "std         0.399452\n",
       "min        10.460242\n",
       "25%        11.775097\n",
       "50%        12.001505\n",
       "75%        12.273731\n",
       "max        13.534473\n",
       "Name: SalePrice, dtype: float64"
      ]
     },
     "execution_count": 4,
     "metadata": {},
     "output_type": "execute_result"
    },
    {
     "data": {
      "image/png": "[encoded data removed]",
      "text/plain": [
       "<Figure size 400x300 with 1 Axes>"
      ]
     },
     "metadata": {},
     "output_type": "display_data"
    }
   ],
   "source": [
    "data.SalePrice = np.log(data.SalePrice)\n",
    "data.SalePrice.plot.hist(figsize = (4,3))\n",
    "data.SalePrice.describe()"
   ]
  },
  {
   "cell_type": "markdown",
   "id": "59a1a932",
   "metadata": {},
   "source": [
    "Missing values"
   ]
  },
  {
   "cell_type": "code",
   "execution_count": 5,
   "id": "09b035ee",
   "metadata": {},
   "outputs": [
    {
     "data": {
      "text/plain": [
       "PoolQC          1453\n",
       "MiscFeature     1406\n",
       "Alley           1369\n",
       "Fence           1179\n",
       "MasVnrType       872\n",
       "                ... \n",
       "GarageType        81\n",
       "GarageFinish      81\n",
       "GarageCond        81\n",
       "GarageYrBlt       81\n",
       "BsmtExposure      38\n",
       "Length: 13, dtype: int64"
      ]
     },
     "execution_count": 5,
     "metadata": {},
     "output_type": "execute_result"
    }
   ],
   "source": [
    "data.isna().sum().sort_values(ascending=False)[:13]#/data.shape[0]*100"
   ]
  },
  {
   "cell_type": "code",
   "execution_count": 6,
   "id": "6158c1ae",
   "metadata": {},
   "outputs": [],
   "source": [
    "quality = {'Ex':5,'Gd': 4,'TA': 3,'Fa': 2,'Po': 1, 'No': 0}\n",
    "\n",
    "# Pool1QC\n",
    "data.PoolQC[~data.PoolQC.isna()] = 'Yes'\n",
    "data.PoolQC.fillna('No', inplace=True)\n",
    "#data.groupby('PoolQC')['SalePrice'].mean()\n",
    "\n",
    "# MiscFeature\n",
    "data.MiscFeature[~data.MiscFeature.isna()] = 'Yes'\n",
    "data.MiscFeature.fillna('No', inplace=True)\n",
    "#data.groupby('MiscFeature')['SalePrice'].mean()\n",
    "\n",
    "# Alley\n",
    "data.Alley[data.Alley.isna()] = 'No alley access'\n",
    "#data.groupby('Alley')['SalePrice'].mean()\n",
    "\n",
    "# Fence\n",
    "data.Fence[~data.Fence.isna()] = 'Yes'\n",
    "data.Fence.fillna('No', inplace=True)\n",
    "#data.groupby('Fence')['SalePrice'].mean()\n",
    "\n",
    "# MasVnrType\n",
    "data.MasVnrType.fillna('Not Reported', inplace=True)\n",
    "#data.groupby('MasVnrType')['SalePrice'].mean()\n",
    "\n",
    "# FireplaceQu\n",
    "#data.FireplaceQu[~data.FireplaceQu.isna()] = 'Yes'\n",
    "data.FireplaceQu.fillna('No', inplace=True)\n",
    "#data.FireplaceQu = data.FireplaceQu.map(quality)\n",
    "#data.groupby('FireplaceQu')['SalePrice'].mean()\n",
    "\n",
    "# LotFrontage\n",
    "lotshape_medians = data.groupby(\"LotShape\")[\"LotFrontage\"].median()\n",
    "data[\"LotFrontage\"] = data[\"LotFrontage\"].fillna(data[\"LotShape\"].map(lotshape_medians))\n",
    "\n",
    "# GarageQual\n",
    "data.GarageQual.fillna('No', inplace=True)\n",
    "#data.GarageQual = data.GarageQual.map(quality)\n",
    "#data.groupby('GarageQual')['SalePrice'].mean()\n",
    "\n",
    "# Garage\n",
    "data.GarageFinish.fillna('No Garage', inplace=True)\n",
    "data.GarageType.fillna('No Garage', inplace=True)\n",
    "data.GarageCond.fillna('No', inplace=True)\n",
    "\n",
    "# Basement\n",
    "data.BsmtExposure.fillna('No Bsmnt', inplace=True)\n",
    "data.BsmtFinType2.fillna('No Bsmnt', inplace=True)\n",
    "data.BsmtFinType1.fillna('No Bsmnt', inplace=True)\n",
    "data.BsmtCond.fillna('No', inplace=True)\n",
    "data.BsmtQual.fillna('No', inplace=True)\n",
    "\n",
    "# MasVnrArea\n",
    "data.MasVnrArea.fillna(data.MasVnrArea.median(skipna=True), inplace=True)\n",
    "\n",
    "# Electrical\n",
    "data.Electrical.fillna(data.Electrical.mode().values[0], inplace = True)"
   ]
  },
  {
   "cell_type": "markdown",
   "id": "c6e02961",
   "metadata": {},
   "source": [
    "New Features"
   ]
  },
  {
   "cell_type": "code",
   "execution_count": 7,
   "id": "f718b973",
   "metadata": {},
   "outputs": [],
   "source": [
    "# Building Age\n",
    "data['BuildingAge'] = data.YearBuilt.max(skipna=True) - data.YearBuilt + 1\n",
    "data['Remodeling'] = (data['YearBuilt'] != data['YearRemodAdd'])\n",
    "\n",
    "# Garage Age\n",
    "data['GarageYrBlt'] = data.GarageYrBlt.max(skipna=True) - data.GarageYrBlt + 1\n",
    "\n",
    "# Drop unecessary cols\n",
    "data.drop(columns=['YearBuilt','YearRemodAdd','GarageYrBlt'], inplace=True)"
   ]
  },
  {
   "cell_type": "markdown",
   "id": "17eb06b5",
   "metadata": {},
   "source": [
    "Engineering"
   ]
  },
  {
   "cell_type": "code",
   "execution_count": 8,
   "id": "71b81492",
   "metadata": {},
   "outputs": [
    {
     "name": "stdout",
     "output_type": "stream",
     "text": [
      "Number of binary cols: 7\n",
      "['Street', 'Utilities', 'CentralAir', 'PoolQC', 'Fence', 'MiscFeature', 'Remodeling']\n"
     ]
    }
   ],
   "source": [
    "# Binary cols\n",
    "binary_cols = data.apply(lambda x: pd.Series(x).nunique() == 2, axis = 0)\n",
    "print(f'Number of binary cols: {binary_cols.sum()}')\n",
    "binary_cols = binary_cols[binary_cols].index.tolist()\n",
    "print(binary_cols)\n",
    "for col in binary_cols:\n",
    "    dict_col = {data[col].unique()[0]:0, data[col].unique()[1]:1}\n",
    "    data[col] = data[col].map(dict_col).astype('boolean')\n",
    "    \n",
    "# Specific cols\n",
    "data.MSSubClass = data.MSSubClass.astype('O')\n",
    "data.YrSold = data.YrSold.astype('O')\n",
    "data.MoSold = data.MoSold.astype('O')\n",
    "\n",
    "# Quality related cols\n",
    "mask = data.columns.str.contains(r'Qu', regex=True)\n",
    "cols_to_map = data.loc[:, mask].columns.difference(['OverallQual','LowQualFinSF'])\n",
    "data[cols_to_map] = data[cols_to_map].apply(lambda x: x.map(quality), axis=1)\n",
    "\n",
    "data.ExterCond = data.ExterCond.map(quality)\n",
    "data.BsmtCond = data.BsmtCond.map(quality)\n",
    "data.GarageCond = data.GarageCond.map(quality)\n",
    "data.HeatingQC = data.HeatingQC.map(quality)\n",
    "\n",
    "# Drop unecessary cols\n",
    "data.drop(columns=['YrSold'], inplace=True)"
   ]
  },
  {
   "cell_type": "markdown",
   "id": "6226c88e",
   "metadata": {},
   "source": [
    "Outliers"
   ]
  },
  {
   "cell_type": "code",
   "execution_count": 9,
   "id": "9c22c810",
   "metadata": {},
   "outputs": [],
   "source": [
    "# Keep only numeric features\n",
    "number_cols = data.drop(columns='SalePrice').select_dtypes(include='number')\n",
    "# Give the same scale across all of them\n",
    "stnd = StandardScaler()\n",
    "number_cols = pd.DataFrame(stnd.fit_transform(number_cols), columns=number_cols.columns)\n",
    "# Compute mean values per row\n",
    "mn = number_cols.apply(lambda x: x.mean(), axis = 1)\n",
    "# Remove rows extreme rows\n",
    "outliers = mn.index[(mn > (mn.mean() + 4*mn.std())) | (mn < (mn.mean() - 4*mn.std()))]\n",
    "# Remove outliers\n",
    "data.drop(index=outliers, inplace=True)"
   ]
  },
  {
   "cell_type": "markdown",
   "id": "7133ef66",
   "metadata": {},
   "source": [
    "Export"
   ]
  },
  {
   "cell_type": "code",
   "execution_count": 10,
   "id": "20c45392",
   "metadata": {},
   "outputs": [],
   "source": [
    "data.to_excel('../Output/train_manipulated.xlsx', index=False)"
   ]
  }
 ],
 "metadata": {
  "kernelspec": {
   "display_name": "Price_House_Prediction (3.12.11)",
   "language": "python",
   "name": "python3"
  },
  "language_info": {
   "codemirror_mode": {
    "name": "ipython",
    "version": 3
   },
   "file_extension": ".py",
   "mimetype": "text/x-python",
   "name": "python",
   "nbconvert_exporter": "python",
   "pygments_lexer": "ipython3",
   "version": "3.12.11"
  }
 },
 "nbformat": 4,
 "nbformat_minor": 5
}
